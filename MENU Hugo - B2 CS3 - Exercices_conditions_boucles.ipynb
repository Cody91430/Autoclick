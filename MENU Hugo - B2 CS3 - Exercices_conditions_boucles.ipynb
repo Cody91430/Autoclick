{
  "cells": [
    {
      "cell_type": "markdown",
      "metadata": {
        "id": "hXsI0qmgZGJY"
      },
      "source": [
        "# Conditions\n",
        "\n",
        "## Rappels\n",
        "\n",
        "Nous avons vu que\n",
        "- un bloc conditionnel débutait par if, le bloc est annoncé par les deux points \":\"\n",
        "- après un bloc if, une instruction elif permet d'exécuter une instruction conditionnelle uniquement si la condition if précédente était fausse\n",
        "- et enfin un else, sexécutant uniquement dans le cas où aucun if/elif des séries précédentes n'ont été validées."
      ]
    },
    {
      "cell_type": "markdown",
      "metadata": {
        "id": "vbeUWA4uZ6qG"
      },
      "source": [
        "## ATTENTION :\n",
        "Différenciez bien if de elif!\n",
        "\n",
        "**Q1 :expliquez la différence entre les deux cellules suivantes.**\n",
        "\n",
        "**Votre réponse:**"
      ]
    },
    {
      "cell_type": "code",
      "execution_count": null,
      "metadata": {
        "colab": {
          "base_uri": "https://localhost:8080/"
        },
        "id": "SKmQc0H0aDyi",
        "outputId": "1afee5cb-9b2d-4e41-b81f-16d1f525bcbb"
      },
      "outputs": [
        {
          "name": "stdout",
          "output_type": "stream",
          "text": [
            "cas 1\n",
            "cas 2\n"
          ]
        }
      ],
      "source": [
        "x = 3\n",
        "\n",
        "if x > 1:\n",
        "  print(\"cas 1\")\n",
        "if x > 2:\n",
        "  print(\"cas 2\")\n",
        "elif x > 3:\n",
        "  print(\"cas 3\")\n",
        "else:\n",
        "  print(\"cas 4\")"
      ]
    },
    {
      "cell_type": "code",
      "execution_count": null,
      "metadata": {
        "colab": {
          "base_uri": "https://localhost:8080/"
        },
        "id": "LXXK9d01aRwm",
        "outputId": "85b23433-ab77-4895-afc4-7b73a46fd39a"
      },
      "outputs": [
        {
          "name": "stdout",
          "output_type": "stream",
          "text": [
            "cas 1\n"
          ]
        }
      ],
      "source": [
        "x = 3\n",
        "\n",
        "if x > 1:\n",
        "  print(\"cas 1\")\n",
        "elif x > 2:\n",
        "  print(\"cas 2\")\n",
        "elif x > 3:\n",
        "  print(\"cas 3\")\n",
        "else:\n",
        "  print(\"cas 4\")"
      ]
    },
    {
      "cell_type": "code",
      "execution_count": null,
      "metadata": {
        "id": "C4DaJrD9b48O"
      },
      "outputs": [],
      "source": [
        "# Dans le premier cas, chaque condition if est indépendante. \n",
        "# Si les conditions sont vraies, les actions correspondantes seront toutes exécutées. \n",
        "# Dans le second cas, les conditions sont liées par elif, ce qui signifie qu'une fois \n",
        "# qu'une condition est vraie, les autres ne sont pas vérifiées. \n",
        "# Ainsi, seule la première condition vraie s'exécute dans le second cas."
      ]
    },
    {
      "cell_type": "markdown",
      "metadata": {
        "id": "Spv6jIhPaqYC"
      },
      "source": [
        "## Complément Python: conditions en raccourcis\n",
        "\n",
        "Il est possible de synthétiser un bloc de conditions courtes en une ligne.\n",
        "\n",
        "*Vous éviterez d'en abuser si la lisibilité de votre code n'en est pas améliorée!*\n",
        "\n",
        "La syntaxe sera\n",
        "\n",
        "\n",
        "```\n",
        "Instruction if Condition else Instruction alternative\n",
        "```\n",
        "\n"
      ]
    },
    {
      "cell_type": "code",
      "execution_count": 12,
      "metadata": {
        "colab": {
          "base_uri": "https://localhost:8080/"
        },
        "id": "U4cu4xbXYRcG",
        "outputId": "5da1f752-4dab-4e08-9aba-fa5ecf3cb4f8"
      },
      "outputs": [
        {
          "name": "stdout",
          "output_type": "stream",
          "text": [
            "cas 1\n",
            "cas 1\n"
          ]
        }
      ],
      "source": [
        "# Exemple (changez la valeur de x)\n",
        "x = 6\n",
        "\n",
        "print(\"cas 1\") if (x > 2) else print(\"cas 2\")\n",
        "\n",
        "# un peu plus de conditions\n",
        "print(\"cas 1\") if (x > 2) else print(\"cas 2\") if (x > 1) else print(\"cas 3\")"
      ]
    },
    {
      "cell_type": "markdown",
      "metadata": {
        "id": "nOisttmJd-k6"
      },
      "source": [
        "## Exercice d'application\n",
        "\n",
        "Q**2 Écrivez sous forme raccourcie le contenu de la cellule suivante dans la cellule d'après**"
      ]
    },
    {
      "cell_type": "code",
      "execution_count": 13,
      "metadata": {
        "colab": {
          "base_uri": "https://localhost:8080/"
        },
        "id": "-qYbsj8Qd6Sg",
        "outputId": "cc8b6d4a-3ecf-491d-d0d0-f9b1fa75ba8a"
      },
      "outputs": [
        {
          "name": "stdout",
          "output_type": "stream",
          "text": [
            "La première lettre est bien en majuscule\n"
          ]
        }
      ],
      "source": [
        "prenom = \"Carine\"\n",
        "\n",
        "if prenom.capitalize() == prenom:\n",
        "  print(\"La première lettre est bien en majuscule\")\n",
        "else:\n",
        "  print(\"La première lettre devrait être en majuscule\")"
      ]
    },
    {
      "cell_type": "code",
      "execution_count": 16,
      "metadata": {
        "id": "QOIPcW3EerY3"
      },
      "outputs": [
        {
          "name": "stdout",
          "output_type": "stream",
          "text": [
            "La première lettre est bien en majuscule\n"
          ]
        }
      ],
      "source": [
        "# Votre ligne de code ici:\n",
        "prenom = \"Hugo\"\n",
        "print(\"La première lettre est bien en majuscule\") if prenom.capitalize() == prenom else print(\"La première lettre devrait être en majuscule\")\n"
      ]
    },
    {
      "cell_type": "markdown",
      "metadata": {
        "id": "xIt_UcIbn-N-"
      },
      "source": [
        "# Boucles while\n",
        "\n",
        "les boucles while sont de la forme\n",
        "\n",
        "\n",
        "\n",
        "```\n",
        "while(condition):\n",
        "  Bloc\n",
        "Suite\n",
        "```\n",
        "\n",
        "Exemple"
      ]
    },
    {
      "cell_type": "code",
      "execution_count": null,
      "metadata": {
        "colab": {
          "base_uri": "https://localhost:8080/"
        },
        "id": "xtNs1EO5oNth",
        "outputId": "8d5d88bd-55b9-448a-e2db-c7a318d8f047"
      },
      "outputs": [
        {
          "name": "stdout",
          "output_type": "stream",
          "text": [
            "0 est plus petit que 5\n",
            "1 est plus petit que 5\n",
            "2 est plus petit que 5\n",
            "3 est plus petit que 5\n",
            "4 est plus petit que 5\n"
          ]
        }
      ],
      "source": [
        "# Remarque : ce code sera écrit plus simplement avec une boule for\n",
        "n = 0\n",
        "while(n < 5):\n",
        "  print(  n, \"est plus petit que 5\")\n",
        "  n += 1"
      ]
    },
    {
      "cell_type": "markdown",
      "metadata": {
        "id": "mzDlPFHUoqo8"
      },
      "source": [
        "**Exercice:** Le PGCD de deux nombres entiers (que l'on prendra strictement positifs) est le plus grand entier divisant ces deux nombres (c'est à dire le reste de la division entière est 0)\n",
        "\n",
        "L'algorithme d'Euclide permet de touver le PGCD de deux entiers en répétant les opérations suivantes:\n",
        "\n",
        "- On suppose A >= B (sinon on inverse)\n",
        "- si B divise A, alors B est le PGCD de A et B\n",
        "- Sinon, tant que B ne divise pas A:\n",
        " - A <- B\n",
        " - B <- reste de la division de A par B\n",
        "\n",
        "\n",
        "**Q3 : Implémentez l'algorithme d'Euclide.**\n",
        "\n",
        "Fonctions authorisées: while, if, comparaisons, modulo, print"
      ]
    },
    {
      "cell_type": "code",
      "execution_count": 2,
      "metadata": {
        "colab": {
          "base_uri": "https://localhost:8080/"
        },
        "id": "UEdbms3OocJz",
        "outputId": "ed8faf58-9a93-448e-ca39-a5f02c5ef83d"
      },
      "outputs": [
        {
          "name": "stdout",
          "output_type": "stream",
          "text": [
            "PGCD(18837,1287) = 117\n"
          ]
        }
      ],
      "source": [
        "a = 3 * 3 * 7 * 13 * 23\n",
        "b = 3 * 3 * 11 * 13\n",
        "print(f\"PGCD({a},{b}) =\", end=\" \")\n",
        "\n",
        "if a < b:\n",
        "    a, b = b, a\n",
        "\n",
        "# Ici, l'algorithme\n",
        "while b != 0:\n",
        "    a, b = b, a % b\n",
        "\n",
        "print(a) "
      ]
    },
    {
      "cell_type": "markdown",
      "metadata": {
        "id": "EHZGvjygtSI0"
      },
      "source": [
        "**Q4: Séquences de Syrracuse**\n",
        "\n",
        "Écrire un programme qui imprime les élément de la suite de Syrracuse débutant par un entier N donné.\n",
        "\n",
        "Pour l'obtenir, on répète itérativement:\n",
        "- N -> N /2 si N pair\n",
        "- N -> Nx3 + 1 si N impair\n",
        "\n",
        "jusqu'à arriver à 1"
      ]
    },
    {
      "cell_type": "code",
      "execution_count": 3,
      "metadata": {
        "colab": {
          "base_uri": "https://localhost:8080/",
          "height": 387
        },
        "id": "bo61PhaCprR6",
        "outputId": "871befc5-9652-413c-df89-43e0a9f40ed9"
      },
      "outputs": [
        {
          "name": "stdout",
          "output_type": "stream",
          "text": [
            "46 -> 23 -> 70 -> 35 -> 106 -> 53 -> 160 -> 80 -> 40 -> 20 -> 10 -> 5 -> 16 -> 8 -> 4 -> 2 -> 1\n"
          ]
        }
      ],
      "source": [
        "N = 46\n",
        "\n",
        "while(N != 1):\n",
        "  print(N, end = \" -> \")\n",
        "  # Votre code ici\n",
        "  if N % 2 == 0:\n",
        "    N = N //2\n",
        "  else :\n",
        "    N = N * 3 + 1\n",
        "print(N)"
      ]
    },
    {
      "cell_type": "markdown",
      "metadata": {
        "id": "AlqCz9TduKd6"
      },
      "source": [
        "**Q5: Entrez un programme qui écrit \"Premier\" si un nombre (entier positif >=2) est premier, et \"Non premier\" sinon.**\n",
        "\n",
        "authorisés: while, if, modulo, print"
      ]
    },
    {
      "cell_type": "code",
      "execution_count": 7,
      "metadata": {
        "id": "asNZ_M4mqa1o"
      },
      "outputs": [
        {
          "name": "stdout",
          "output_type": "stream",
          "text": [
            "Premier\n"
          ]
        }
      ],
      "source": [
        "N = 43\n",
        "is_prime = True\n",
        "i = 2  \n",
        "\n",
        "while i <= int(N**0.5):\n",
        "    if N % i == 0: \n",
        "        is_prime = False\n",
        "        break  \n",
        "    i += 1  \n",
        "\n",
        "if is_prime:\n",
        "    print(\"Premier\")\n",
        "else:\n",
        "    print(\"Non premier\")\n"
      ]
    },
    {
      "cell_type": "markdown",
      "metadata": {
        "id": "ubgNgA6d0-k2"
      },
      "source": [
        "**Q6: On veut compter la plus longue séquence de chiffres identiques contigus dans un nombre entier strictement supérieur à 1**"
      ]
    },
    {
      "cell_type": "code",
      "execution_count": 6,
      "metadata": {
        "colab": {
          "base_uri": "https://localhost:8080/"
        },
        "id": "hUrN_IAK1Vom",
        "outputId": "b295fcc1-f001-4aeb-be4f-fc618dde64a6"
      },
      "outputs": [
        {
          "name": "stdout",
          "output_type": "stream",
          "text": [
            "6\n"
          ]
        }
      ],
      "source": [
        "N = 44411111122333455\n",
        "maximum = 0  \n",
        "courant = 0  \n",
        "dernier_chiffre = N % 10  \n",
        "\n",
        "while N > 0:  \n",
        "    chiffre_courant = N % 10  \n",
        "    if chiffre_courant == dernier_chiffre:  \n",
        "        courant += 1  \n",
        "    else:  \n",
        "        if courant > maximum:  \n",
        "            maximum = courant  \n",
        "        courant = 1 \n",
        "        dernier_chiffre = chiffre_courant \n",
        "\n",
        "    N = N // 10\n",
        "\n",
        "if courant > maximum:\n",
        "    maximum = courant\n",
        "\n",
        "print(maximum)\n"
      ]
    },
    {
      "cell_type": "markdown",
      "metadata": {
        "id": "RjiKiSaxvKfk"
      },
      "source": [
        "# Les instructions continue et break\n",
        "\n",
        "Lors d'une boucle, vous pouvez vouloir insérer une instruction d'interruption en cas de conditions spéciales.\n",
        "\n",
        "**continue** lance le prochain tour de boucle sans exécuter les instructions qui suivent\n",
        "\n",
        "**break** renvoie directement après le bloc de boucle en cours"
      ]
    },
    {
      "cell_type": "code",
      "execution_count": null,
      "metadata": {
        "colab": {
          "base_uri": "https://localhost:8080/"
        },
        "id": "tCoc_pBwvI2t",
        "outputId": "fbef9d18-f183-4940-f783-c461548654e1"
      },
      "outputs": [
        {
          "name": "stdout",
          "output_type": "stream",
          "text": [
            "123456\n",
            "41151\n",
            "13716\n",
            "4571\n",
            "1523\n",
            "On a dépassé les bornes!\n",
            "On va arrêter de diviser mais on va retrancher 1000!\n",
            "522\n",
            "On a dépassé les bornes!\n",
            "On va arrêter de diviser mais on va retrancher 1000!\n",
            "-479\n",
            "On a beaucoup trop dépassé les bornes!\n",
            "Le programme est terminé!\n"
          ]
        }
      ],
      "source": [
        "N = 123456\n",
        "\n",
        "while(N != 4321):\n",
        "  print(N)\n",
        "  N = N - 1\n",
        "  if (N < 0):\n",
        "    print(\"On a beaucoup trop dépassé les bornes!\")\n",
        "    break\n",
        "  if(N < 4321):\n",
        "    print(\"On a dépassé les bornes!\")\n",
        "    print(\"On va arrêter de diviser mais on va retrancher 1000!\")\n",
        "    N = N - 1000\n",
        "    continue\n",
        "  N = N // 3\n",
        "\n",
        "print(\"Le programme est terminé!\")"
      ]
    },
    {
      "cell_type": "markdown",
      "metadata": {
        "id": "CHRojnMaJF75"
      },
      "source": [
        "# Approfondissement : simulation aléatoire\n",
        "\n",
        "Le théorème des 4 carrés est un théorème arithmétique affirmant que tout nombre entier positif peut se décomposer en carrés de 4 entiers (exemple 30 = 4**2 + 3**2 + 2**2+ 1**2).\n",
        "\n",
        "Une recherche déterministe semble ardue avec le peu d'outils dont nous disposons. Nous allons procéder avec un algorithme aléatoire.\n",
        "\n",
        "*Nous utiliserons la méthode random.randint()*\n",
        "\n",
        "\n",
        "\n",
        "1.   Vous tirerez a, b, c et d aléatoirement\n",
        "2.   a sera pris dans [0, racine carrée de N]\n",
        "3.   b sera pris entre 0 et *la racine carrée de ce qu'il manque en retirant a^2 à N*\n",
        "4.   c sera pris entre 0 et *la racine carrée de ce qu'il manque en retirant a^2 et b^2 à N*\n",
        "5.   d sera la partie entière de la racine carré de N - a^2 - b^2 - c^2\n",
        "\n",
        "La boucle s'arrêtera si les 4 carrés tirés sont acceptables\n",
        "\n",
        "Quelques problèmes peuvent se produire:\n",
        "1.   a^2 peut être trop grand par rapport à N\n",
        "2.   a^2 + b^2 ... idem...\n",
        "\n",
        "donc vous ajouterez des clauses d'interruption adaptées\n",
        "\n",
        "De même, il peut arriver dans de très rares cas que la racine carrée passée en entier soit arrondie à d-1 lors du changement de type. On ajoutera par sécurité un test avec d+1.\n",
        "\n",
        "**Complétez le code suivant:**"
      ]
    },
    {
      "cell_type": "code",
      "execution_count": 8,
      "metadata": {
        "colab": {
          "base_uri": "https://localhost:8080/"
        },
        "id": "6CSSzC8Wws_V",
        "outputId": "681656f3-561b-4413-fb85-c1c900078716"
      },
      "outputs": [
        {
          "name": "stdout",
          "output_type": "stream",
          "text": [
            "1400313^2 + 475670^2 + 23956^2 + 745280^2 = 2743154615205 !!\n"
          ]
        }
      ],
      "source": [
        "import random\n",
        "\n",
        "N = 2743154615205\n",
        "\n",
        "a, b, c, d = 0, 0, 0, 0  \n",
        "\n",
        "while True:  \n",
        "    a = random.randint(0, int(N**0.5))\n",
        "\n",
        "    reste_b = N - a**2\n",
        "    if reste_b < 0:\n",
        "        continue  \n",
        "    b = random.randint(0, int(reste_b**0.5))\n",
        "\n",
        "    reste_c = reste_b - b**2\n",
        "    if reste_c < 0:\n",
        "        continue  \n",
        "    c = random.randint(0, int(reste_c**0.5))\n",
        "\n",
        "    reste_d = reste_c - c**2\n",
        "    if reste_d < 0:\n",
        "        continue  \n",
        "    d = int(reste_d**0.5)\n",
        "\n",
        "    if d**2 != reste_d:\n",
        "        d += 1\n",
        "\n",
        "    if a**2 + b**2 + c**2 + d**2 == N:\n",
        "        break  \n",
        "\n",
        "print(f\"{a}^2 + {b}^2 + {c}^2 + {d}^2 = {a**2 + b**2 + c**2 + d**2} !!\")"
      ]
    },
    {
      "cell_type": "markdown",
      "metadata": {
        "id": "D8aGbzP4Q4C5"
      },
      "source": [
        "## Test d'efficacité\n",
        "\n",
        "On veut mesurer l'efficacité de notre algorithme précédent.\n",
        "\n",
        "1.   Générez manuelleemnt une liste (entre [] avec des entiers séparés par des ;) de 20 nombres de taille croissante (le suivant entre 4 et 8 fois plus grand que son précédent)\n",
        "2. avec le module time et la fonction time.time(), mesurez le temps d'exécution de l'algorithme, et stockez le dans une liste.\n",
        "3. observez le résultat et discutez."
      ]
    },
    {
      "cell_type": "code",
      "execution_count": 9,
      "metadata": {
        "colab": {
          "base_uri": "https://localhost:8080/"
        },
        "id": "5IwgfxTEFgs6",
        "outputId": "fdac53e1-e5a3-4a6f-d291-f4022cb012cb"
      },
      "outputs": [
        {
          "name": "stdout",
          "output_type": "stream",
          "text": [
            "Execution times: [0.002094745635986328, 0.0030677318572998047, 0.0025243759155273438, 0.0020220279693603516, 0.0010046958923339844, 0.0019998550415039062, 0.0030066967010498047, 0.0009951591491699219, 0.0019986629486083984, 0.002000570297241211, 0.002405881881713867, 0.003015279769897461, 0.0029990673065185547, 0.0029921531677246094, 0.003254413604736328, 0.0030035972595214844, 0.0024385452270507812, 0.003014802932739258, 0.0020864009857177734, 0.0024204254150390625]\n"
          ]
        }
      ],
      "source": [
        "import time\n",
        "\n",
        "temps = [\n",
        "    6, 24, 168, 1344, 6720, 53760, 268880, 1881600, 7526400, 52684800,\n",
        "    368793600, 2950438800, 20652441600, 82609766400, 330439065600,\n",
        "    2643512524800, 15861075148800, 126888601190400, 507554404761600,\n",
        "    2537772023808000\n",
        "]\n",
        "\n",
        "execution_times = []\n",
        "\n",
        "for i in temps:\n",
        "    t1 = time.time() \n",
        "\n",
        "    for _ in range(10000):  \n",
        "        result = i ** 0.5\n",
        "\n",
        "    t2 = time.time()  \n",
        "\n",
        "    execution_times.append(t2 - t1)\n",
        "\n",
        "print(\"Execution times:\", execution_times)"
      ]
    },
    {
      "cell_type": "code",
      "execution_count": 11,
      "metadata": {
        "colab": {
          "base_uri": "https://localhost:8080/"
        },
        "id": "phVnnDaXGI9j",
        "outputId": "3fa949e8-b48b-4793-a320-958b037f3bc5"
      },
      "outputs": [
        {
          "data": {
            "text/plain": [
              "29087"
            ]
          },
          "execution_count": 11,
          "metadata": {},
          "output_type": "execute_result"
        }
      ],
      "source": [
        "7**20 // N"
      ]
    },
    {
      "cell_type": "code",
      "execution_count": null,
      "metadata": {
        "id": "UM7D--r4RcXV"
      },
      "outputs": [],
      "source": [
        "# Nous observons que le code s'éxecute très rapidement"
      ]
    }
  ],
  "metadata": {
    "colab": {
      "provenance": []
    },
    "kernelspec": {
      "display_name": "Python 3",
      "name": "python3"
    },
    "language_info": {
      "codemirror_mode": {
        "name": "ipython",
        "version": 3
      },
      "file_extension": ".py",
      "mimetype": "text/x-python",
      "name": "python",
      "nbconvert_exporter": "python",
      "pygments_lexer": "ipython3",
      "version": "3.11.9"
    }
  },
  "nbformat": 4,
  "nbformat_minor": 0
}
