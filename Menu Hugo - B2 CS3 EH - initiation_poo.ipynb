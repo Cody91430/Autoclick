{
  "cells": [
    {
      "cell_type": "markdown",
      "metadata": {
        "id": "PjGxPbTZc-Xg"
      },
      "source": [
        "# Initiation à la programmation orientée objet en Python\n",
        "\n",
        "Bienvenue dans ce TD dédié à la découverte de la programmation orientée objet (POO) en Python.\n",
        "\n",
        "La POO est un paradigme de programmation puissant qui permet de structurer le code de manière plus intuitive et modulaire en modélisant des concepts du monde réel sous forme de \"classes\" et d' \"objets\".\n",
        "\n",
        "**Objectifs de ce TD :**\n",
        "\n",
        "* Comprendre les concepts fondamentaux de la POO : classes, objets, attributs, méthodes.\n",
        "* Apprendre à créer et manipuler des classes et des objets en Python.\n",
        "* Explorer des concepts clés comme l'encapsulation, l'héritage et le polymorphisme.\n",
        "* Mettre en pratique ces concepts à travers des exercices de codage.\n",
        "\n",
        "**Prérequis :**\n",
        "\n",
        "* Connaissance de base de la programmation en Python (variables, types de données, fonctions, boucles, conditions).\n",
        "\n",
        "**Instructions :**\n",
        "\n",
        "* Lisez attentivement les explications et les exemples de code fournis dans chaque section.\n",
        "* Exécutez les cellules de code pour observer les résultats et comprendre le fonctionnement des concepts.\n",
        "* Réalisez les exercices de codage proposés pour mettre en pratique vos connaissances.\n",
        "* N'hésitez pas à poser des questions si vous rencontrez des difficultés ou si vous avez besoin de clarifications."
      ]
    },
    {
      "cell_type": "markdown",
      "metadata": {
        "id": "0n1yBflCdz28"
      },
      "source": [
        "## Partie I : Première classe\n",
        "\n",
        "Dans cette partie, nous allons découvrir les bases de la création d'une classe en Python. Nous allons explorer les éléments suivants :\n",
        "\n",
        "* **Le mot-clé `class` :**  Utilisé pour définir une classe, qui sert de modèle pour créer des objets.\n",
        "* **La méthode `__init__` :**  Appelée le constructeur, elle est exécutée lors de la création d'un objet et permet d'initialiser ses attributs.\n",
        "* **Les attributs :**  Des variables qui stockent les données associées à un objet.\n",
        "* **Les méthodes :**  Des fonctions définies à l'intérieur d'une classe, qui permettent d'effectuer des opérations sur les attributs de l'objet.\n",
        "\n",
        "**Exemple : Création d'une classe `Voiture`**\n",
        "\n",
        "Nous allons créer une classe `Voiture` pour illustrer ces concepts.  Imaginez que chaque voiture a une marque, un modèle et une couleur.  Ces caractéristiques seront représentées par les attributs de la classe.  Nous allons également définir une méthode `demarrer()` qui affichera un message indiquant que la voiture a démarré."
      ]
    },
    {
      "cell_type": "markdown",
      "metadata": {
        "id": "0zzo2x6mewOZ"
      },
      "source": [
        "### Étape 1 : Définition de la classe\n",
        "\n",
        "On commence par définir la structure de base de notre classe en utilisant le mot-clé `class` suivi du nom de la classe.  La docstring permet de décrire la classe.  Pour l'instant, le corps de la classe est vide, ce que l'on indique avec le mot-clé `pass`.\n",
        "\n",
        "**À faire vous-même : modifiez la cellule suivante à l'endroit demandé, et regardez l'effet produit sur help()**"
      ]
    },
    {
      "cell_type": "code",
      "execution_count": 3,
      "metadata": {
        "colab": {
          "base_uri": "https://localhost:8080/"
        },
        "id": "T0_tYInbabVc",
        "outputId": "ae0a0d88-7cc8-4732-8c9b-65f6daa105bb"
      },
      "outputs": [
        {
          "name": "stdout",
          "output_type": "stream",
          "text": [
            "Création de la classe Voiture\n"
          ]
        }
      ],
      "source": [
        "class Voiture:\n",
        "  \"\"\"\n",
        "  Classe représentant une voiture avec ses caractéristiques et comportements de base.\n",
        "  \"\"\"\n",
        "  print(\"Création de la classe Voiture\")"
      ]
    },
    {
      "cell_type": "code",
      "execution_count": 4,
      "metadata": {
        "id": "1zmIU2vAePCt"
      },
      "outputs": [
        {
          "name": "stdout",
          "output_type": "stream",
          "text": [
            "Help on class Voiture in module __main__:\n",
            "\n",
            "class Voiture(builtins.object)\n",
            " |  Classe représentant une voiture avec ses caractéristiques et comportements de base.\n",
            " |  \n",
            " |  Data descriptors defined here:\n",
            " |  \n",
            " |  __dict__\n",
            " |      dictionary for instance variables\n",
            " |  \n",
            " |  __weakref__\n",
            " |      list of weak references to the object\n",
            "\n"
          ]
        }
      ],
      "source": [
        "help(Voiture)"
      ]
    },
    {
      "cell_type": "markdown",
      "metadata": {
        "id": "WNHHajTuhcOO"
      },
      "source": [
        "Le constructeur __init__\n",
        "\n",
        "Lorsque vous créez un objet à partir d'une classe, une méthode spéciale appelée __init__ est automatiquement exécutée. C'est le constructeur de la classe. Il a pour rôle d'initialiser l'objet, c'est-à-dire de lui donner ses valeurs initiales.\n",
        "\n",
        "Dans l'exemple ci-dessous, nous avons ajouté une instruction print() à l'intérieur du constructeur pour montrer qu'il est bien appelé lors de la création de l'objet ma_voiture. Observez le résultat :"
      ]
    },
    {
      "cell_type": "code",
      "execution_count": 5,
      "metadata": {
        "colab": {
          "base_uri": "https://localhost:8080/"
        },
        "id": "-_bNtp-FgZxe",
        "outputId": "0a67159d-bd7d-4d95-934d-880a1a080878"
      },
      "outputs": [
        {
          "name": "stdout",
          "output_type": "stream",
          "text": [
            "Le constructeur __init__ est appelé !\n"
          ]
        }
      ],
      "source": [
        "class Voiture:\n",
        "  \"\"\"\n",
        "  Classe représentant une voiture.\n",
        "  \"\"\"\n",
        "\n",
        "  def __init__(self):\n",
        "    \"\"\"\n",
        "    Premières instructions de la méthode __init__\n",
        "    \"\"\"\n",
        "    print(\"Le constructeur __init__ est appelé !\")\n",
        "\n",
        "# Instanciation d'un objet de la classe Voiture\n",
        "ma_voiture = Voiture()"
      ]
    },
    {
      "cell_type": "markdown",
      "metadata": {
        "id": "J2ij366Igu3v"
      },
      "source": [
        "### Les attributs\n",
        "\n",
        "Les **attributs** sont des variables qui stockent des informations relatives à un objet.  Ils permettent de définir les caractéristiques de l'objet.  Par exemple, une voiture a une marque, un modèle, une couleur, etc.  Ces caractéristiques peuvent être représentées par des attributs.\n",
        "\n",
        "Dans le constructeur `__init__`, on utilise `self.nom_attribut = valeur` pour initialiser les attributs de l'objet.  On peut ensuite accéder aux attributs de l'objet en utilisant la notation `objet.nom_attribut`.\n",
        "\n",
        "**Le mot-clé self**\n",
        "\n",
        "En Python, le mot-clé self est utilisé à l'intérieur des méthodes d'une classe pour faire référence à l'instance courante de la classe. En d'autres termes, self représente l'objet spécifique sur lequel la méthode est appelée.\n",
        "\n",
        "**Pourquoi utiliser self ?**\n",
        "\n",
        "Accès aux attributs et aux méthodes de l'objet : self permet d'accéder aux attributs et aux méthodes de l'instance de la classe. Par exemple, self.marque fait référence à l'attribut marque de l'objet courant.\n",
        "Différenciation des variables locales et des attributs : self permet de distinguer les variables locales d'une méthode des attributs de l'objet. Les attributs sont préfixés par self, tandis que les variables locales ne le sont pas.\n",
        "\n",
        "**À faire vous-même: remplissez le print de la cellule suivante pour afficher la marque / le modèle / la couleur**"
      ]
    },
    {
      "cell_type": "code",
      "execution_count": 12,
      "metadata": {
        "colab": {
          "base_uri": "https://localhost:8080/"
        },
        "id": "5RA1aBqMgZ0w",
        "outputId": "39da337d-35ad-4cbd-f884-c660b07b9c49"
      },
      "outputs": [
        {
          "name": "stdout",
          "output_type": "stream",
          "text": [
            "BMW M4 Noir\n"
          ]
        }
      ],
      "source": [
        "class Voiture:\n",
        "  \"\"\"\n",
        "  Classe représentant une voiture.\n",
        "  \"\"\"\n",
        "\n",
        "  def __init__(self, marque, modele, couleur):\n",
        "    \"\"\"\n",
        "    Constructeur de la classe Voiture.\n",
        "\n",
        "    Args:\n",
        "      marque: La marque de la voiture.\n",
        "      modele: Le modèle de la voiture.\n",
        "      couleur: La couleur de la voiture.\n",
        "    \"\"\"\n",
        "    self.marque = marque\n",
        "    self.modele = modele\n",
        "    self.couleur = couleur\n",
        "\n",
        "# Instanciation d'un objet de la classe Voiture\n",
        "ma_voiture = Voiture(\"BMW\", \"M4\", \"Noir\")\n",
        "\n",
        "print(ma_voiture.marque, ma_voiture.modele, ma_voiture.couleur)"
      ]
    },
    {
      "cell_type": "markdown",
      "metadata": {
        "id": "R7_qM9RRjwF-"
      },
      "source": [
        "**Les méthodes**\n",
        "\n",
        "Les méthodes sont des fonctions définies à l'intérieur d'une classe. Elles permettent de définir des actions que les objets de cette classe peuvent effectuer. Par exemple, une voiture peut démarrer, accélérer, freiner, etc. Ces actions peuvent être représentées par des méthodes.\n",
        "\n",
        "On définit une méthode comme une fonction classique, en utilisant le mot-clé def, mais à l'intérieur de la classe.  La première variable de la méthode est toujours self, qui représente l'instance de la classe."
      ]
    },
    {
      "cell_type": "code",
      "execution_count": 13,
      "metadata": {
        "id": "kP3g940zeLPQ"
      },
      "outputs": [
        {
          "name": "stdout",
          "output_type": "stream",
          "text": [
            "La Tesla Model S rouge a démarré.\n"
          ]
        }
      ],
      "source": [
        "class Voiture:\n",
        "  \"\"\"\n",
        "  Classe représentant une voiture.\n",
        "  \"\"\"\n",
        "\n",
        "  def __init__(self, marque, modele, couleur):\n",
        "    \"\"\"\n",
        "    Constructeur de la classe Voiture.\n",
        "\n",
        "    Args:\n",
        "      marque: La marque de la voiture.\n",
        "      modele: Le modèle de la voiture.\n",
        "      couleur: La couleur de la voiture.\n",
        "    \"\"\"\n",
        "    self.marque = marque\n",
        "    self.modele = modele\n",
        "    self.couleur = couleur\n",
        "\n",
        "  def demarrer(self):\n",
        "    \"\"\"\n",
        "    Affiche un message indiquant que la voiture a démarré.\n",
        "    \"\"\"\n",
        "    print(f\"La {self.marque} {self.modele} {self.couleur} a démarré.\")\n",
        "\n",
        "# Instanciation d'un objet de la classe Voiture\n",
        "ma_voiture = Voiture(\"Tesla\", \"Model S\", \"rouge\")\n",
        "\n",
        "# Appel de la méthode demarrer()\n",
        "ma_voiture.demarrer()  # Affiche \"La Tesla Model S rouge a démarré.\""
      ]
    },
    {
      "cell_type": "markdown",
      "metadata": {
        "id": "wkFkmASmlkiG"
      },
      "source": [
        "## Partie II : Exercices de créations de classes simples\n",
        "\n",
        "### Exercice I : Système de gestion de fichiers sécurisé (Niveau difficile)\n",
        "\n",
        "**Contexte :**\n",
        "\n",
        "Vous êtes chargé de concevoir un système de gestion de fichiers sécurisé pour une entreprise. Ce système doit permettre de stocker des fichiers, de gérer les droits d'accès et de garantir l'intégrité des données.\n",
        "\n",
        "**Objectif :**\n",
        "\n",
        "Créer un système de classes Python pour modéliser ce système de gestion de fichiers sécurisé.\n",
        "\n",
        "**Classes à implémenter :**\n",
        "\n",
        "1. **`Utilisateur`**\n",
        "    * Attributs : `nom_utilisateur`, `mot_de_passe`, `role` (`administrateur`, `utilisateur`)\n",
        "    * Méthodes : `verifier_mot_de_passe(mot_de_passe_saisi)`, `changer_mot_de_passe(ancien_mot_de_passe, nouveau_mot_de_passe)`\n",
        "\n",
        "2. **`Fichier`**\n",
        "    * Attributs : `nom_fichier`, `contenu`, `proprietaire` (objet `Utilisateur`), `droits_acces` (liste d'objets `Utilisateur` ayant accès au fichier)\n",
        "    * Méthodes : `ajouter_acces(utilisateur, mot_de_passe)`, `retirer_acces(utilisateur, mot_de_passe)`, `lire_contenu(utilisateur, mot_de_passe)` (vérifie si l'utilisateur a les droits d'accès avant de retourner le contenu), `ecrire_contenu(utilisateur, nouveau_contenu)` (vérifie si l'utilisateur a les droits d'accès avant de modifier le contenu. Le mot de passe utilisateur doit être celui de l'utilisateur appelé.)\n",
        "\n",
        "3. **`SystemeFichiers`**\n",
        "    * Attributs : `liste_fichiers` (liste d'objets `Fichier`), `liste_utilisateurs` (liste d'objets `Utilisateur`)\n",
        "    * Méthodes : `ajouter_fichier(fichier, utilisateur, mot_de_passe)`, `supprimer_fichier(fichier, utilisateur, mot_de_passe)` (vérifie si l'utilisateur est administrateur ou propriétaire du fichier avant de le supprimer), `chercher_fichier(nom_fichier, utilisateur, mot_de_passe)` (vérifie si l'utilisateur a accès au fichier avant de le retourner), `afficher_liste_fichiers(utilisateur)` (affiche la liste des fichiers accessibles à l'utilisateur)\n",
        "\n",
        "**Fonctionnalités additionnelles (bonus) :**\n",
        "\n",
        "* Implémenter un système de versioning pour les fichiers, permettant de conserver l'historique des modifications.\n",
        "* Intégrer un mécanisme de chiffrement pour le contenu des fichiers.\n",
        "* Ajouter des logs pour suivre les actions effectuées sur les fichiers (accès, modifications, suppressions).\n",
        "\n",
        "**Remarques :**\n",
        "\n",
        "* Vous pouvez hacher les mots de passe avec la librairie `hashlib` de Python.\n",
        "* Ce projet peut être réalisé en plusieurs étapes, en commençant par les fonctionnalités de base et en ajoutant progressivement les fonctionnalités additionnelles.\n",
        "\n",
        "**Conseils :**\n",
        "\n",
        "* Pensez à bien structurer votre code en utilisant des classes et des méthodes.\n",
        "* Utilisez des commentaires pour expliquer le fonctionnement de votre code.\n",
        "* Testez votre code régulièrement pour vous assurer qu'il fonctionne correctement."
      ]
    },
    {
      "cell_type": "code",
      "execution_count": 60,
      "metadata": {},
      "outputs": [],
      "source": [
        "class Utilisateur:\n",
        "    def __init__(self, nom_utilisateur, mot_de_passe, role):\n",
        "        self.nom_utilisateur = nom_utilisateur\n",
        "        self.mot_de_passe = mot_de_passe\n",
        "        self.role = role\n",
        "\n",
        "    def verification_mot_de_passe(self, mot_de_passe_saisie):\n",
        "        return self.mot_de_passe == mot_de_passe_saisie\n",
        "\n",
        "    def changer_mdp(self, nouveau_mdp):\n",
        "        if self.mot_de_passe == nouveau_mdp:\n",
        "            print(\"Le nouveau mot de passe ne peut pas être le même que l'ancien.\")\n",
        "        else:\n",
        "            self.mot_de_passe = nouveau_mdp\n",
        "            print(\"Le mot de passe a été mis à jour avec succès.\")"
      ]
    },
    {
      "cell_type": "code",
      "execution_count": 55,
      "metadata": {},
      "outputs": [],
      "source": [
        "class Fichier:\n",
        "    def __init__(self, nom_fichier, contenu, proprietaire):\n",
        "        self.nom_fichier = nom_fichier\n",
        "        self.contenu = contenu\n",
        "        self.proprietaire = proprietaire  \n",
        "        self.droits_acces = [proprietaire]\n",
        "\n",
        "    def ajouter_acces(self, utilisateur, mot_de_passe):\n",
        "        if not self.proprietaire.verification_mot_de_passe(mot_de_passe):\n",
        "            print(\"Mot de passe incorrect. Accès refusé.\")\n",
        "            return\n",
        "\n",
        "        if utilisateur not in self.droits_acces:\n",
        "            self.droits_acces.append(utilisateur)\n",
        "            print(f\"Accès ajouté pour {utilisateur.nom_utilisateur}.\")\n",
        "        else:\n",
        "            print(f\"{utilisateur.nom_utilisateur} a déjà accès au fichier.\")\n",
        "\n",
        "    def retirer_acces(self, utilisateur, mot_de_passe):\n",
        "        if not self.proprietaire.verification_mot_de_passe(mot_de_passe):\n",
        "            print(\"Mot de passe incorrect. Accès refusé.\")\n",
        "            return\n",
        "\n",
        "        if utilisateur in self.droits_acces:\n",
        "            self.droits_acces.remove(utilisateur)\n",
        "            print(f\"Accès retiré pour {utilisateur.nom_utilisateur}.\")\n",
        "        else:\n",
        "            print(f\"{utilisateur.nom_utilisateur} n'a pas accès à ce fichier.\")\n",
        "\n",
        "    def lire_contenu(self, utilisateur, mot_de_passe):\n",
        "        if utilisateur in self.droits_acces and utilisateur.verification_mot_de_passe(mot_de_passe):\n",
        "            print(\"Lecture du contenu autorisée.\")\n",
        "            return self.contenu\n",
        "        else:\n",
        "            print(\"Accès refusé pour la lecture du contenu.\")\n",
        "            return None\n",
        "\n",
        "    def ecrire_contenu(self, utilisateur, nouveau_contenu):\n",
        "        if utilisateur in self.droits_acces:\n",
        "            self.contenu = nouveau_contenu\n",
        "            print(\"Contenu mis à jour avec succès.\")\n",
        "        else:\n",
        "            print(\"Accès refusé pour la modification du contenu.\")"
      ]
    },
    {
      "cell_type": "code",
      "execution_count": 61,
      "metadata": {},
      "outputs": [],
      "source": [
        "class SystemeFichiers:\n",
        "    def __init__(self):\n",
        "        self.liste_fichiers = []      # Liste d'objets Fichier\n",
        "        self.liste_utilisateurs = []  # Liste d'objets Utilisateur\n",
        "\n",
        "    def ajouter_fichier(self, fichier, utilisateur, mot_de_passe):\n",
        "        if utilisateur.verification_mot_de_passe(mot_de_passe):\n",
        "            self.liste_fichiers.append(fichier)\n",
        "            print(f\"Fichier '{fichier.nom_fichier}' ajouté avec succès.\")\n",
        "        else:\n",
        "            print(\"Mot de passe incorrect. Impossible d'ajouter le fichier.\")\n",
        "\n",
        "    def supprimer_fichier(self, fichier, utilisateur, mot_de_passe):\n",
        "        if utilisateur.verification_mot_de_passe(mot_de_passe):\n",
        "            if utilisateur.role == \"administrateur\" or utilisateur == fichier.proprietaire:\n",
        "                if fichier in self.liste_fichiers:\n",
        "                    self.liste_fichiers.remove(fichier)\n",
        "                    print(f\"Fichier '{fichier.nom_fichier}' supprimé avec succès.\")\n",
        "                else:\n",
        "                    print(\"Le fichier n'existe pas dans le système.\")\n",
        "            else:\n",
        "                print(\"Accès refusé. Seul l'administrateur ou le propriétaire peut supprimer ce fichier.\")\n",
        "        else:\n",
        "            print(\"Mot de passe incorrect. Impossible de supprimer le fichier.\")\n",
        "\n",
        "    def chercher_fichier(self, nom_fichier, utilisateur, mot_de_passe):\n",
        "        if utilisateur.verification_mot_de_passe(mot_de_passe):\n",
        "            for fichier in self.liste_fichiers:\n",
        "                if fichier.nom_fichier == nom_fichier:\n",
        "                    if utilisateur in fichier.droits_acces:\n",
        "                        print(f\"Fichier '{nom_fichier}' trouvé et accessible.\")\n",
        "                        return fichier\n",
        "                    else:\n",
        "                        print(\"Accès refusé. Vous n'avez pas les droits pour accéder à ce fichier.\")\n",
        "                        return None\n",
        "            print(f\"Fichier '{nom_fichier}' non trouvé.\")\n",
        "            return None\n",
        "        else:\n",
        "            print(\"Mot de passe incorrect. Recherche annulée.\")\n",
        "            return None\n",
        "\n",
        "    def afficher_liste_fichiers(self, utilisateur):\n",
        "        accessible_fichiers = [fichier.nom_fichier for fichier in self.liste_fichiers if utilisateur in fichier.droits_acces]\n",
        "        if accessible_fichiers:\n",
        "            print(\"Fichiers accessibles :\")\n",
        "            for nom_fichier in accessible_fichiers:\n",
        "                print(f\"- {nom_fichier}\")\n",
        "        else:\n",
        "            print(\"Aucun fichier accessible.\")"
      ]
    },
    {
      "cell_type": "code",
      "execution_count": 63,
      "metadata": {},
      "outputs": [
        {
          "name": "stdout",
          "output_type": "stream",
          "text": [
            "Fichier 'fruits' ajouté avec succès.\n",
            "Fichier 'legumes' ajouté avec succès.\n",
            "Fichier 'desserts' ajouté avec succès.\n",
            "Fichiers accessibles :\n",
            "- fruits\n",
            "- legumes\n",
            "Fichiers accessibles :\n",
            "- desserts\n",
            "Fichier 'fruits' trouvé et accessible.\n",
            "Accès refusé. Vous n'avez pas les droits pour accéder à ce fichier.\n",
            "Fichier 'fruits' supprimé avec succès.\n",
            "Accès refusé. Seul l'administrateur ou le propriétaire peut supprimer ce fichier.\n",
            "Fichiers accessibles :\n",
            "- legumes\n"
          ]
        }
      ],
      "source": [
        "utilisateur1 = Utilisateur(\"hugo\", \"12345\", \"administrateur\")\n",
        "utilisateur2 = Utilisateur(\"daoud\", \"abcde\", \"utilisateur\")\n",
        "utilisateur3 = Utilisateur(\"nicolas\", \"xyz123\", \"utilisateur\")\n",
        "\n",
        "fichier1 = Fichier(\"fruits\", \"J'aime beaucoup les fruits !\", utilisateur1)\n",
        "fichier2 = Fichier(\"legumes\", \"Les légumes sont bons pour la santé.\", utilisateur1)\n",
        "fichier3 = Fichier(\"desserts\", \"Les desserts sont délicieux.\", utilisateur2)\n",
        "\n",
        "systeme = SystemeFichiers()\n",
        "\n",
        "# Ajouter des fichiers au système\n",
        "systeme.ajouter_fichier(fichier1, utilisateur1, \"12345\")  \n",
        "systeme.ajouter_fichier(fichier2, utilisateur1, \"12345\")  \n",
        "systeme.ajouter_fichier(fichier3, utilisateur2, \"abcde\")\n",
        "\n",
        "systeme.afficher_liste_fichiers(utilisateur1)  \n",
        "\n",
        "systeme.afficher_liste_fichiers(utilisateur2) \n",
        "\n",
        "# Chercher un fichier (avec contrôle d'accès)\n",
        "systeme.chercher_fichier(\"fruits\", utilisateur1, \"12345\")  \n",
        "systeme.chercher_fichier(\"fruits\", utilisateur2, \"abcde\")  \n",
        "\n",
        "# Supprimer un fichier (avec contrôle d'accès)\n",
        "systeme.supprimer_fichier(fichier1, utilisateur1, \"12345\")  \n",
        "systeme.supprimer_fichier(fichier1, utilisateur2, \"abcde\")  \n",
        "\n",
        "# Afficher la liste des fichiers après suppression\n",
        "systeme.afficher_liste_fichiers(utilisateur1)  \n"
      ]
    },
    {
      "cell_type": "markdown",
      "metadata": {
        "id": "TI9kWjVJvOak"
      },
      "source": [
        "## Exercice II : Implémentation d'un système de chiffrement RSA simplifié\n",
        "\n",
        "**Contexte :**\n",
        "\n",
        "Le RSA est un algorithme de chiffrement à clé publique largement utilisé pour sécuriser les communications sur Internet. Il repose sur la difficulté mathématique de factoriser de grands nombres entiers.\n",
        "\n",
        "**Objectif :**\n",
        "\n",
        "Concevoir un système de classes Python pour implémenter une version simplifiée du chiffrement RSA, sans utiliser de librairies externes pour les opérations mathématiques.\n",
        "\n",
        "**Classes à implémenter :**\n",
        "\n",
        "1. **`CleRSA`**\n",
        "    * Attributs : `n` (module), `e` (exposant public) ou `d` (exposant privé)\n",
        "    * Méthodes :\n",
        "        * `generer_cles(p, q)` : génère les clés publique et privée à partir de deux nombres premiers `p` et `q`.\n",
        "        * `chiffrer(message)` : chiffre un message (représenté par un entier) en utilisant la clé publique.\n",
        "        * `dechiffrer(message_chiffre)` : déchiffre un message chiffré en utilisant la clé privée.\n",
        "\n",
        "**Fonctionnalités à implémenter :**\n",
        "\n",
        "* **Génération de clés :**\n",
        "    * Calculer `n = p * q`.\n",
        "    * Calculer l'indicatrice d'Euler `phi = (p - 1) * (q - 1)`.\n",
        "    * Choisir un exposant public `e` tel que `1 < e < phi` et `pgcd(e, phi) = 1`.\n",
        "    * Calculer l'exposant privé `d` tel que `(d * e) % phi = 1`.\n",
        "\n",
        "* **Chiffrement :**\n",
        "    * Convertir le message en un entier `m`.\n",
        "    * Calculer le message chiffré `c = (m ** e) % n`.\n",
        "\n",
        "* **Déchiffrement :**\n",
        "    * Calculer le message déchiffré `m = (c ** d) % n`.\n",
        "    * Convertir l'entier `m` en le message original.\n",
        "\n",
        "**Remarques :**\n",
        "\n",
        "* Pour simplifier l'exercice, vous pouvez utiliser des nombres premiers `p` et `q` relativement petits.\n",
        "* Vous pouvez utiliser l'algorithme d'Euclide étendu pour calculer l'exposant privé `d`.\n",
        "* Vous pouvez représenter les messages par des chaînes de caractères et les convertir en entiers en utilisant leur code ASCII.\n",
        "\n",
        "**Conseils :**\n",
        "\n",
        "* Pensez à bien structurer votre code en utilisant des fonctions pour les différentes opérations mathématiques.\n",
        "* Utilisez des commentaires pour expliquer le fonctionnement de votre code.\n",
        "* Testez votre code avec différents messages et différentes paires de clés.\n",
        "\n",
        "**Bonus :**\n",
        "\n",
        "* Implémentez une fonction pour vérifier la signature d'un message.\n",
        "* Gérez les exceptions pour les cas d'erreur (par exemple, si `p` et `q` ne sont pas premiers).\n"
      ]
    },
    {
      "cell_type": "code",
      "execution_count": 65,
      "metadata": {
        "id": "4A9AHsTpofY-"
      },
      "outputs": [],
      "source": [
        "import random\n",
        "from math import gcd\n",
        "\n",
        "class CleRSA:\n",
        "    def __init__(self, n=None, e=None, d=None):\n",
        "        self.n = n   \n",
        "        self.e = e   \n",
        "        self.d = d   \n",
        "\n",
        "    def generer_cles(self, p, q):\n",
        "        self.n = p * q\n",
        "\n",
        "        phi = (p - 1) * (q - 1)\n",
        "\n",
        "        self.e = self.choisir_exposant_public(phi)\n",
        "\n",
        "        self.d = self.calculer_exposant_prive(phi)\n",
        "\n",
        "        print(f\"Clé publique: (n={self.n}, e={self.e})\")\n",
        "        print(f\"Clé privée: (n={self.n}, d={self.d})\")\n",
        "    \n",
        "    def choisir_exposant_public(self, phi):\n",
        "        e = random.randint(2, phi - 1)\n",
        "        while gcd(e, phi) != 1:\n",
        "            e = random.randint(2, phi - 1)\n",
        "        return e\n",
        "    \n",
        "    def calculer_exposant_prive(self, phi):\n",
        "        d, _, _ = self.euclide_etendu(self.e, phi)\n",
        "        if d < 0:\n",
        "            d += phi \n",
        "        return d\n",
        "    \n",
        "    def euclide_etendu(self, a, b):\n",
        "        if b == 0:\n",
        "            return a, 1, 0\n",
        "        else:\n",
        "            g, x, y = self.euclide_etendu(b, a % b)\n",
        "            return g, y, x - (a // b) * y\n",
        "\n",
        "    def chiffrer(self, message):\n",
        "        m = self.message_en_entier(message)\n",
        "        c = pow(m, self.e, self.n)  \n",
        "        return c\n",
        "\n",
        "    def dechiffrer(self, message_chiffre):\n",
        "        m = pow(message_chiffre, self.d, self.n) \n",
        "        return self.entier_en_message(m)\n",
        "    \n",
        "    def message_en_entier(self, message):\n",
        "        m = 0\n",
        "        for char in message:\n",
        "            m = m * 256 + ord(char) \n",
        "        return m\n",
        "\n",
        "    def entier_en_message(self, m):\n",
        "        message = \"\"\n",
        "        while m > 0:\n",
        "            message = chr(m % 256) + message\n",
        "            m = m // 256\n",
        "        return message\n"
      ]
    },
    {
      "cell_type": "code",
      "execution_count": 68,
      "metadata": {},
      "outputs": [
        {
          "name": "stdout",
          "output_type": "stream",
          "text": [
            "Clé publique: (n=3233, e=1481)\n",
            "Clé privée: (n=3233, d=1)\n",
            "Message chiffré : 1159\n",
            "Message déchiffré : \u0004\n"
          ]
        }
      ],
      "source": [
        "# Définition de deux petits nombres premiers p et q\n",
        "p = 61\n",
        "q = 53\n",
        "\n",
        "# Création de la clé RSA et génération des clés\n",
        "cle_rsa = CleRSA()\n",
        "cle_rsa.generer_cles(p, q)\n",
        "\n",
        "# Message à chiffrer\n",
        "message_original = \"Bonjour Efrei !\"\n",
        "\n",
        "# Chiffrement du message\n",
        "message_chiffre = cle_rsa.chiffrer(message_original)\n",
        "print(f\"Message chiffré : {message_chiffre}\")\n",
        "\n",
        "# Déchiffrement du message\n",
        "message_dechiffre = cle_rsa.dechiffrer(message_chiffre)\n",
        "print(f\"Message déchiffré : {message_dechiffre}\")\n"
      ]
    }
  ],
  "metadata": {
    "colab": {
      "provenance": []
    },
    "kernelspec": {
      "display_name": "Python 3",
      "name": "python3"
    },
    "language_info": {
      "codemirror_mode": {
        "name": "ipython",
        "version": 3
      },
      "file_extension": ".py",
      "mimetype": "text/x-python",
      "name": "python",
      "nbconvert_exporter": "python",
      "pygments_lexer": "ipython3",
      "version": "3.11.9"
    }
  },
  "nbformat": 4,
  "nbformat_minor": 0
}
