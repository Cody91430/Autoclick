{
 "cells": [
  {
   "cell_type": "markdown",
   "metadata": {
    "id": "KdzWhMjWXLeE"
   },
   "source": [
    "# TD Python 3 : Graphes et POO\n",
    "\n",
    "**Objectifs :**\n",
    "\n",
    "* Comprendre les concepts de base de la Programmation Orientée Objet (POO) en Python.\n",
    "* Apprendre à implémenter une classe `Graphe` en Python en utilisant l'héritage et les méthodes spéciales.\n",
    "* Manipuler des graphes et implémenter des algorithmes de base.\n",
    "\n",
    "**Prérequis :**\n",
    "\n",
    "* Connaissance de base en Python (types de données, structures de contrôle, fonctions).\n",
    "* Notions de base sur les graphes (sommets, arêtes, etc.).\n",
    "\n",
    "\n",
    "**Durée :** 5 heures\n",
    "\n",
    "**Instructions :**\n",
    "\n",
    "1. Lisez attentivement l'énoncé du TD.\n",
    "2. Implémentez la classe `Graphe` en Python en suivant les instructions.\n",
    "3. Testez votre code régulièrement avec des exemples de graphes.\n",
    "4. Répondez aux questions et exercices proposés.\n",
    "\n",
    "**Conseils :**\n",
    "\n",
    "* N'hésitez pas à poser des questions à votre encadrant si vous rencontrez des difficultés.\n",
    "* Travaillez en binôme ou en petits groupes pour vous entraider.\n",
    "* Consultez la documentation Python et les ressources en ligne pour approfondir vos connaissances."
   ]
  },
  {
   "cell_type": "markdown",
   "metadata": {
    "id": "7HXGTGjgj2Ib"
   },
   "source": [
    "## Exercice 1: Implémentation d'une classe Graphe en Python\n",
    "\n",
    "**Objectif:**  Créer une classe `Graph` en Python qui représente un graphe non orienté en utilisant une liste d'adjacence. La classe doit hériter de la classe `list` et implémenter les méthodes nécessaires pour manipuler le graphe.\n",
    "\n",
    "**Spécifications:**\n",
    "\n",
    "1. **Héritage:** La classe `Graph` doit hériter de la classe `list`.\n",
    "2. **Affichage des sommets:** L'instruction `print(mon_graph)` doit afficher la liste des sommets du graphe.\n",
    "3. **Affichage des arêtes:**  Saisir `mon_graph` dans l'interpréteur Python doit afficher la liste des arêtes du graphe,  chaque arête étant représentée par une paire de sommets.\n",
    "4. **Nombre de sommets:** La fonction `len(mon_graph)` doit renvoyer le nombre de sommets du graphe.\n",
    "5. **Accès aux sommets:**  `mon_graph[i]` doit renvoyer le ième sommet du graphe.\n",
    "6. **Appartenance:**  `i in mon_graph` doit renvoyer `True` si le sommet `i` est présent dans le graphe, `False` sinon.\n",
    "7. **Méthodes:**\n",
    "    * `ajouter_sommet(sommet)`: Ajoute un sommet au graphe.\n",
    "    * `ajouter_arete(sommet1, sommet2)`: Ajoute une arête entre deux sommets.\n",
    "    * `montre_aretes()`: Affiche la liste des arêtes.\n",
    "\n",
    "**Exemple d'utilisation:**\n",
    "\n",
    "```python\n",
    ">>> mon_graph = Graph([('A', 'B'), ('B', 'C'), ('C', 'A')])\n",
    ">>> print(mon_graph)\n",
    "['A', 'B', 'C']\n",
    ">>> mon_graph\n",
    "Sommets: ['A', 'B', 'C']\n",
    "Arêtes:\n",
    "A -- B\n",
    "B -- C\n",
    "C -- A\n",
    "\n",
    ">>> len(mon_graph)\n",
    "3\n",
    ">>> mon_graph[0]\n",
    "'A'\n",
    ">>> 'A' in mon_graph\n",
    "True\n",
    ">>> mon_graph.ajouter_sommet('D')\n",
    ">>> mon_graph.ajouter_arete('A', 'D')\n",
    ">>> mon_graph.montre_aretes()\n",
    "A -- B\n",
    "B -- C\n",
    "C -- A\n",
    "A -- D\n",
    "```\n",
    "\n",
    "**Conseils:**\n",
    "\n",
    "* Utilisez la méthode `__init__` pour initialiser le graphe et la liste d'adjacence.\n",
    "* Implémentez les méthodes magiques `__str__`, `__repr__`, `__len__`, `__contains__` et `__getitem__` pour obtenir le comportement spécifié.\n",
    "* Utilisez la méthode `append()` de la classe `list` pour ajouter des sommets au graphe.\n",
    "* Assurez-vous que la méthode `ajouter_arete` gère correctement l'ajout de sommets qui ne sont pas encore présents dans le graphe.\n",
    "\n",
    "\n",
    "**Bonus:**\n",
    "\n",
    "* Implémentez une méthode `voisins(sommet)` qui renvoie la liste des voisins d'un sommet donné.\n",
    "* Implémentez une méthode `degre(sommet)` qui renvoie le degré d'un sommet donné (le nombre de ses voisins).\n",
    "\n",
    "\n",
    "**N'hésitez pas à me poser des questions si vous rencontrez des difficultés!**\n"
   ]
  },
  {
   "cell_type": "markdown",
   "metadata": {
    "id": "KiZBTDydiH5m"
   },
   "source": []
  },
  {
   "cell_type": "code",
   "execution_count": null,
   "metadata": {
    "id": "6BjODK05f1u7"
   },
   "outputs": [],
   "source": [
    "class Graph(list):\n",
    "\n",
    "    def __init__(self):\n",
    "        super().__init__()\n",
    "        self.arete = []  \n",
    "\n",
    "    def ajouter_sommet(self, sommet):\n",
    "        if sommet not in self:  \n",
    "            self.append(sommet)\n",
    "\n",
    "    def ajouter_arete(self, sommet1, sommet2):\n",
    "        self.ajouter_sommet(sommet1)\n",
    "        self.ajouter_sommet(sommet2)\n",
    "\n",
    "        if (sommet1, sommet2) not in self.arete and (sommet2, sommet1) not in self.arete:\n",
    "            self.arete.append((sommet1, sommet2))\n",
    "\n",
    "    def indice_sommet(self, sommet):\n",
    "        if sommet in self:\n",
    "            print(f\"L'indice du sommet : {sommet} est {self.index(sommet)}\")\n",
    "        else:\n",
    "            print(f\"Le sommet {sommet} n'existe pas dans le graphe.\")\n",
    "\n",
    "    def montre_aretes(self):\n",
    "        print(f\"Graphe(arêtes={self.arete})\")\n",
    "\n",
    "    def __str__(self):\n",
    "        return f\"Graph(sommets={super().__str__()})\"\n",
    "\n",
    "    def __repr__(self):\n",
    "        return f\"Graph(arêtes={self.arete}, sommets={super().__repr__()})\"\n",
    "\n",
    "    def __len__(self):\n",
    "        return super().__len__()\n",
    "\n",
    "    def __contains__(self, sommet):\n",
    "        return super().__contains__(sommet)\n",
    "\n",
    "    def __getitem__(self, index):\n",
    "        return super().__getitem__(index)\n"
   ]
  },
  {
   "cell_type": "code",
   "execution_count": null,
   "metadata": {
    "id": "41xXW_F9YW-x"
   },
   "outputs": [
    {
     "name": "stdout",
     "output_type": "stream",
     "text": [
      "Graph(sommets=Graph(arêtes=[('A', 'B'), ('B', 'C'), ('C', 'D'), ('A', 'C')], sommets=['A', 'B', 'C', 'D']))\n",
      "Graph(arêtes=[('A', 'B'), ('B', 'C'), ('C', 'D'), ('A', 'C')], sommets=['A', 'B', 'C', 'D'])\n",
      "4\n",
      "L'indice du sommet : B est 1\n"
     ]
    }
   ],
   "source": [
    "graph = Graph()\n",
    "\n",
    "graph.ajouter_sommet(\"A\")\n",
    "graph.ajouter_sommet(\"B\")\n",
    "graph.ajouter_sommet(\"C\")\n",
    "graph.ajouter_sommet(\"D\")\n",
    "\n",
    "graph.ajouter_arete(\"A\", \"B\")\n",
    "graph.ajouter_arete(\"B\", \"C\")\n",
    "graph.ajouter_arete(\"C\", \"D\")\n",
    "graph.ajouter_arete(\"A\", \"C\")\n",
    "\n",
    "print(graph)  \n",
    "print(repr(graph))\n",
    "print(len(graph))  \n",
    "\n",
    "graph.indice_sommet(\"B\")"
   ]
  },
  {
   "cell_type": "markdown",
   "metadata": {
    "id": "dvhkLQdjj-Sp"
   },
   "source": [
    "## Exercice 2: Détection de sous-graphes complets\n",
    "\n",
    "**Objectif:** Implémenter un algorithme qui détecte la présence d'un sous-graphe complet d'une taille donnée dans un graphe non orienté.\n",
    "\n",
    "**Définition:**\n",
    "\n",
    "* **Graphe complet:** Un graphe complet est un graphe dans lequel chaque sommet est connecté à tous les autres sommets. Un graphe complet à `n` sommets est noté K<sub>n</sub>.\n",
    "[Image of Exemples de graphes complets K3, K4 et K5]\n",
    "\n",
    "* **Sous-graphe:** Un sous-graphe d'un graphe G est un graphe dont tous les sommets et toutes les arêtes appartiennent à G.\n",
    "\n",
    "**Spécifications:**\n",
    "\n",
    "1. **Fonction `est_complet(graphe)`:**\n",
    "    * Prend en argument un objet `Graph` (tel que défini dans l'exercice 1).\n",
    "    * Renvoie `True` si le graphe est complet, `False` sinon.\n",
    "\n",
    "2. **Fonction `trouve_sous_graphe_complet(graphe, taille)`:**\n",
    "    * Prend en argument un objet `Graph` et un entier `taille`.\n",
    "    * Renvoie `True` si le graphe contient un sous-graphe complet de taille `taille`, `False` sinon.\n",
    "\n",
    "**Conseils:**\n",
    "\n",
    "* Pour la fonction `est_complet`, vous pouvez vérifier si chaque sommet a un degré égal au nombre total de sommets moins 1.\n",
    "* Pour la fonction `trouve_sous_graphe_complet`, vous pouvez utiliser une approche itérative ou récursive pour explorer les combinaisons possibles de sommets.\n",
    "* Vous pouvez utiliser la méthode `voisins(sommet)` (bonus de l'exercice 1) pour obtenir la liste des voisins d'un sommet.\n",
    "\n",
    "**Exemple d'utilisation:**\n",
    "\n",
    "```python\n",
    ">>> graphe = Graph([('A', 'B'), ('B', 'C'), ('C', 'A'), ('A', 'D'), ('B', 'D')])\n",
    ">>> est_complet(graphe)\n",
    "False\n",
    ">>> trouve_sous_graphe_complet(graphe, 3)\n",
    "True  # Le sous-graphe formé par les sommets A, B et C est complet.\n",
    ">>> trouve_sous_graphe_complet(graphe, 4)\n",
    "False\n",
    "```\n",
    "\n",
    "**Bonus:**\n",
    "\n",
    "* Modifiez la fonction `trouve_sous_graphe_complet` pour qu'elle renvoie la liste des sommets du sous-graphe complet trouvé, ou `None` si aucun sous-graphe complet de la taille donnée n'est trouvé.\n",
    "* Implémentez un algorithme plus efficace pour la détection de sous-graphes complets, par exemple en utilisant la recherche de cliques.\n"
   ]
  },
  {
   "cell_type": "code",
   "execution_count": 173,
   "metadata": {
    "id": "ZrAV0uGRit9v"
   },
   "outputs": [],
   "source": [
    "import itertools\n",
    "\n",
    "class Graph:\n",
    "    def __init__(self, edges):\n",
    "        self.sommets = set()\n",
    "        self.arêtes = []\n",
    "        for u, v in edges:\n",
    "            self.sommets.add(u)\n",
    "            self.sommets.add(v)\n",
    "            self.arêtes.append((u, v))\n",
    "    \n",
    "    def voisins(self, sommet):\n",
    "        return {v for u, v in self.arêtes if u == sommet} | {u for u, v in self.arêtes if v == sommet}\n",
    "\n",
    "def est_complet(graphe):\n",
    "    n = len(graphe.sommets)\n",
    "    for sommet in graphe.sommets:\n",
    "        if len(graphe.voisins(sommet)) != n - 1:\n",
    "            return False\n",
    "    return True\n",
    "\n",
    "def trouve_sous_graphe_complet(graphe, taille):\n",
    "    if taille < 2:\n",
    "        return False\n",
    "\n",
    "    for combinaison in itertools.combinations(graphe.sommets, taille):\n",
    "        tous_connectes = True\n",
    "        for u, v in itertools.combinations(combinaison, 2):\n",
    "            if v not in graphe.voisins(u):\n",
    "                tous_connectes = False\n",
    "                break\n",
    "        if tous_connectes:\n",
    "            return True\n",
    "    return False"
   ]
  },
  {
   "cell_type": "code",
   "execution_count": 174,
   "metadata": {},
   "outputs": [
    {
     "name": "stdout",
     "output_type": "stream",
     "text": [
      "False\n",
      "True\n",
      "False\n"
     ]
    }
   ],
   "source": [
    "graphe = Graph([('A', 'B'), ('B', 'C'), ('C', 'A'), ('A', 'D'), ('B', 'D')])\n",
    "\n",
    "print(est_complet(graphe))  \n",
    "\n",
    "print(trouve_sous_graphe_complet(graphe, 3))  \n",
    "\n",
    "print(trouve_sous_graphe_complet(graphe, 4))  "
   ]
  }
 ],
 "metadata": {
  "colab": {
   "provenance": []
  },
  "kernelspec": {
   "display_name": "Python 3",
   "name": "python3"
  },
  "language_info": {
   "codemirror_mode": {
    "name": "ipython",
    "version": 3
   },
   "file_extension": ".py",
   "mimetype": "text/x-python",
   "name": "python",
   "nbconvert_exporter": "python",
   "pygments_lexer": "ipython3",
   "version": "3.13.0"
  }
 },
 "nbformat": 4,
 "nbformat_minor": 0
}
